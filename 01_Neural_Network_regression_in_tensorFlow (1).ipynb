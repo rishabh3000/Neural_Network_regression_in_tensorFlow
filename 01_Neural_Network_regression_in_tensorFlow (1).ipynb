{
  "nbformat": 4,
  "nbformat_minor": 0,
  "metadata": {
    "colab": {
      "name": " 01_Neural_Network_regression_in_tensorFlow",
      "provenance": []
    },
    "kernelspec": {
      "name": "python3",
      "display_name": "Python 3"
    },
    "language_info": {
      "name": "python"
    }
  },
  "cells": [
    {
      "cell_type": "code",
      "metadata": {
        "id": "A1_E4I5lSw04"
      },
      "source": [
        ""
      ],
      "execution_count": null,
      "outputs": []
    },
    {
      "cell_type": "code",
      "metadata": {
        "id": "bzirqdLjS7Ee"
      },
      "source": [
        "import tensorflow as tf\n",
        "\n"
      ],
      "execution_count": null,
      "outputs": []
    },
    {
      "cell_type": "markdown",
      "metadata": {
        "id": "gFoD1RioWHKk"
      },
      "source": [
        "Creating data to view and Fit "
      ]
    },
    {
      "cell_type": "code",
      "metadata": {
        "colab": {
          "base_uri": "https://localhost:8080/",
          "height": 269
        },
        "id": "trYn91G0ULdE",
        "outputId": "8885ef4a-2fc9-44ed-bce3-a7a02fffbae8"
      },
      "source": [
        "import numpy as np\n",
        "import matplotlib.pyplot as plt\n",
        "\n",
        "\n",
        "# creating features\n",
        "\n",
        "x=np.array([-7.0, -4.0, -1.0, 2.0, 5.0, 8.0, 11.0, 14.0])\n",
        "\n",
        "# creating labels\n",
        "\n",
        "y=np.array([3.0, 6.0, 9.0, 12.0, 15.0, 18.0, 21.0, 24.0])\n",
        "\n",
        "# visualise\n",
        "\n",
        "plt.scatter (x,y);"
      ],
      "execution_count": 13,
      "outputs": [
        {
          "output_type": "display_data",
          "data": {
            "image/png": "[encoded data removed]",
            "text/plain": [
              "<Figure size 432x288 with 1 Axes>"
            ]
          },
          "metadata": {
            "needs_background": "light"
          }
        }
      ]
    },
    {
      "cell_type": "code",
      "metadata": {
        "colab": {
          "base_uri": "https://localhost:8080/"
        },
        "id": "rM7EtRk6UkJ0",
        "outputId": "fb965b08-2910-4071-828a-4d9cba14ea40"
      },
      "source": [
        "y==x+10"
      ],
      "execution_count": 14,
      "outputs": [
        {
          "output_type": "execute_result",
          "data": {
            "text/plain": [
              "array([ True,  True,  True,  True,  True,  True,  True,  True])"
            ]
          },
          "metadata": {},
          "execution_count": 14
        }
      ]
    },
    {
      "cell_type": "markdown",
      "metadata": {
        "id": "5Rh_uaHYa1XE"
      },
      "source": [
        "Input ans output shape"
      ]
    },
    {
      "cell_type": "code",
      "metadata": {
        "colab": {
          "base_uri": "https://localhost:8080/"
        },
        "id": "vwZLbXyOUnGT",
        "outputId": "4166a8b2-2ada-4261-d556-e7e49a81252c"
      },
      "source": [
        "# Demo Tesnor\n",
        "\n",
        "house_info=tf.constant(['Bedroom','bathroom','garage'])\n",
        "house_price=tf.constant([939700])\n",
        "\n",
        "house_info,house_price"
      ],
      "execution_count": 15,
      "outputs": [
        {
          "output_type": "execute_result",
          "data": {
            "text/plain": [
              "(<tf.Tensor: shape=(3,), dtype=string, numpy=array([b'Bedroom', b'bathroom', b'garage'], dtype=object)>,\n",
              " <tf.Tensor: shape=(1,), dtype=int32, numpy=array([939700], dtype=int32)>)"
            ]
          },
          "metadata": {},
          "execution_count": 15
        }
      ]
    },
    {
      "cell_type": "code",
      "metadata": {
        "colab": {
          "base_uri": "https://localhost:8080/"
        },
        "id": "qlJv3CPLbSEW",
        "outputId": "425e37bd-81da-4902-aea6-8c67ffd46212"
      },
      "source": [
        "house_info.shape"
      ],
      "execution_count": 16,
      "outputs": [
        {
          "output_type": "execute_result",
          "data": {
            "text/plain": [
              "TensorShape([3])"
            ]
          },
          "metadata": {},
          "execution_count": 16
        }
      ]
    },
    {
      "cell_type": "code",
      "metadata": {
        "colab": {
          "base_uri": "https://localhost:8080/"
        },
        "id": "J3bCNJZJbVxv",
        "outputId": "be8ac5b5-04a1-46f8-f25f-889d82f1249f"
      },
      "source": [
        "x[0].ndim"
      ],
      "execution_count": 17,
      "outputs": [
        {
          "output_type": "execute_result",
          "data": {
            "text/plain": [
              "0"
            ]
          },
          "metadata": {},
          "execution_count": 17
        }
      ]
    },
    {
      "cell_type": "code",
      "metadata": {
        "colab": {
          "base_uri": "https://localhost:8080/"
        },
        "id": "iCPNg9xZbX7n",
        "outputId": "b54bfe96-a467-4c8d-cee5-d6e8a44c84e3"
      },
      "source": [
        "x[0],y[0]"
      ],
      "execution_count": 18,
      "outputs": [
        {
          "output_type": "execute_result",
          "data": {
            "text/plain": [
              "(-7.0, 3.0)"
            ]
          },
          "metadata": {},
          "execution_count": 18
        }
      ]
    },
    {
      "cell_type": "code",
      "metadata": {
        "colab": {
          "base_uri": "https://localhost:8080/"
        },
        "id": "WN70SWXubbAH",
        "outputId": "dc9cdd93-f678-4c95-f5cf-c96e488586cd"
      },
      "source": [
        "input_shape=x[0].shape\n",
        "output_shape=y[0].shape\n",
        "\n",
        "input_shape,output_shape"
      ],
      "execution_count": 19,
      "outputs": [
        {
          "output_type": "execute_result",
          "data": {
            "text/plain": [
              "((), ())"
            ]
          },
          "metadata": {},
          "execution_count": 19
        }
      ]
    },
    {
      "cell_type": "code",
      "metadata": {
        "colab": {
          "base_uri": "https://localhost:8080/"
        },
        "id": "YEo9cOU3bgUX",
        "outputId": "d4a2e217-8fd6-4a15-85b8-12e391d91e46"
      },
      "source": [
        "# Trun numpy into tensor\n",
        "\n",
        "x=tf.constant(x)\n",
        "y=tf.constant(y)\n",
        "\n",
        "x,y"
      ],
      "execution_count": 20,
      "outputs": [
        {
          "output_type": "execute_result",
          "data": {
            "text/plain": [
              "(<tf.Tensor: shape=(8,), dtype=float64, numpy=array([-7., -4., -1.,  2.,  5.,  8., 11., 14.])>,\n",
              " <tf.Tensor: shape=(8,), dtype=float64, numpy=array([ 3.,  6.,  9., 12., 15., 18., 21., 24.])>)"
            ]
          },
          "metadata": {},
          "execution_count": 20
        }
      ]
    },
    {
      "cell_type": "code",
      "metadata": {
        "colab": {
          "base_uri": "https://localhost:8080/"
        },
        "id": "lL2Lhca_b3KX",
        "outputId": "34c2f856-480b-4628-80b2-36515fc4abdb"
      },
      "source": [
        "input_shape=x[0].shape\n",
        "output_shape=y[0].shape\n",
        "\n",
        "input_shape,output_shape"
      ],
      "execution_count": 21,
      "outputs": [
        {
          "output_type": "execute_result",
          "data": {
            "text/plain": [
              "(TensorShape([]), TensorShape([]))"
            ]
          },
          "metadata": {},
          "execution_count": 21
        }
      ]
    },
    {
      "cell_type": "code",
      "metadata": {
        "colab": {
          "base_uri": "https://localhost:8080/",
          "height": 269
        },
        "id": "vIWrXo6lcKtW",
        "outputId": "8cb3f561-f4a7-4677-a385-81af721f897a"
      },
      "source": [
        "plt.scatter(x,y);"
      ],
      "execution_count": 22,
      "outputs": [
        {
          "output_type": "display_data",
          "data": {
            "image/png": "[encoded data removed]",
            "text/plain": [
              "<Figure size 432x288 with 1 Axes>"
            ]
          },
          "metadata": {
            "needs_background": "light"
          }
        }
      ]
    },
    {
      "cell_type": "markdown",
      "metadata": {
        "id": "r8EFraBncRth"
      },
      "source": [
        "Steps in Modeling with Tensorflow"
      ]
    },
    {
      "cell_type": "code",
      "metadata": {
        "id": "b5BP7NzQcXAm",
        "colab": {
          "base_uri": "https://localhost:8080/"
        },
        "outputId": "3215ae53-81e4-4bbb-d775-abb9d1b54080"
      },
      "source": [
        "# Set random seed\n",
        "\n",
        "tf.random.set_seed(42)\n",
        "\n",
        "#create a model\n",
        "\n",
        "model=tf.keras.Sequential([tf.keras.layers.Dense(1)])\n",
        "\n",
        "# compile the model\n",
        "\n",
        "model.compile(loss=tf.keras.losses.mae,\n",
        "              optimizer=tf.keras.optimizers.SGD(),\n",
        "              metrics=['mae'])\n",
        "\n",
        "# Fit the Model\n",
        "\n",
        "model.fit(x,y,epochs=5)"
      ],
      "execution_count": 23,
      "outputs": [
        {
          "output_type": "stream",
          "name": "stdout",
          "text": [
            "Epoch 1/5\n",
            "1/1 [==============================] - 1s 556ms/step - loss: 11.5048 - mae: 11.5048\n",
            "Epoch 2/5\n",
            "1/1 [==============================] - 0s 8ms/step - loss: 11.3723 - mae: 11.3723\n",
            "Epoch 3/5\n",
            "1/1 [==============================] - 0s 6ms/step - loss: 11.2398 - mae: 11.2398\n",
            "Epoch 4/5\n",
            "1/1 [==============================] - 0s 4ms/step - loss: 11.1073 - mae: 11.1073\n",
            "Epoch 5/5\n",
            "1/1 [==============================] - 0s 4ms/step - loss: 10.9748 - mae: 10.9748\n"
          ]
        },
        {
          "output_type": "execute_result",
          "data": {
            "text/plain": [
              "<keras.callbacks.History at 0x7f35d28b9050>"
            ]
          },
          "metadata": {},
          "execution_count": 23
        }
      ]
    },
    {
      "cell_type": "code",
      "metadata": {
        "colab": {
          "base_uri": "https://localhost:8080/"
        },
        "id": "hK7yvLFY3Dyq",
        "outputId": "3ab771d1-217c-4d17-c783-eaea2f2b5398"
      },
      "source": [
        "x,y"
      ],
      "execution_count": 24,
      "outputs": [
        {
          "output_type": "execute_result",
          "data": {
            "text/plain": [
              "(<tf.Tensor: shape=(8,), dtype=float64, numpy=array([-7., -4., -1.,  2.,  5.,  8., 11., 14.])>,\n",
              " <tf.Tensor: shape=(8,), dtype=float64, numpy=array([ 3.,  6.,  9., 12., 15., 18., 21., 24.])>)"
            ]
          },
          "metadata": {},
          "execution_count": 24
        }
      ]
    },
    {
      "cell_type": "code",
      "metadata": {
        "colab": {
          "base_uri": "https://localhost:8080/"
        },
        "id": "-HJCn39H3GG6",
        "outputId": "55438e3f-82b3-4f61-fc5e-2b9966590c50"
      },
      "source": [
        "model.predict([17.0])"
      ],
      "execution_count": 25,
      "outputs": [
        {
          "output_type": "execute_result",
          "data": {
            "text/plain": [
              "array([[12.716021]], dtype=float32)"
            ]
          },
          "metadata": {},
          "execution_count": 25
        }
      ]
    },
    {
      "cell_type": "markdown",
      "metadata": {
        "id": "Vmd9yEd52l9s"
      },
      "source": [
        "Increasing epochs we can improve our model prediction"
      ]
    },
    {
      "cell_type": "code",
      "metadata": {
        "colab": {
          "base_uri": "https://localhost:8080/"
        },
        "id": "piJtyLAy2rN_",
        "outputId": "07252fbe-5fd0-46df-8cdf-f01ca4e3d148"
      },
      "source": [
        "model.fit(x,y,epochs=100)"
      ],
      "execution_count": 26,
      "outputs": [
        {
          "output_type": "stream",
          "name": "stdout",
          "text": [
            "Epoch 1/100\n",
            "1/1 [==============================] - 0s 9ms/step - loss: 10.8423 - mae: 10.8423\n",
            "Epoch 2/100\n",
            "1/1 [==============================] - 0s 5ms/step - loss: 10.7098 - mae: 10.7098\n",
            "Epoch 3/100\n",
            "1/1 [==============================] - 0s 5ms/step - loss: 10.5773 - mae: 10.5773\n",
            "Epoch 4/100\n",
            "1/1 [==============================] - 0s 6ms/step - loss: 10.4448 - mae: 10.4448\n",
            "Epoch 5/100\n",
            "1/1 [==============================] - 0s 7ms/step - loss: 10.3123 - mae: 10.3123\n",
            "Epoch 6/100\n",
            "1/1 [==============================] - 0s 4ms/step - loss: 10.1798 - mae: 10.1798\n",
            "Epoch 7/100\n",
            "1/1 [==============================] - 0s 5ms/step - loss: 10.0473 - mae: 10.0473\n",
            "Epoch 8/100\n",
            "1/1 [==============================] - 0s 6ms/step - loss: 9.9148 - mae: 9.9148\n",
            "Epoch 9/100\n",
            "1/1 [==============================] - 0s 4ms/step - loss: 9.7823 - mae: 9.7823\n",
            "Epoch 10/100\n",
            "1/1 [==============================] - 0s 5ms/step - loss: 9.6498 - mae: 9.6498\n",
            "Epoch 11/100\n",
            "1/1 [==============================] - 0s 4ms/step - loss: 9.5173 - mae: 9.5173\n",
            "Epoch 12/100\n",
            "1/1 [==============================] - 0s 10ms/step - loss: 9.3848 - mae: 9.3848\n",
            "Epoch 13/100\n",
            "1/1 [==============================] - 0s 6ms/step - loss: 9.2523 - mae: 9.2523\n",
            "Epoch 14/100\n",
            "1/1 [==============================] - 0s 6ms/step - loss: 9.1198 - mae: 9.1198\n",
            "Epoch 15/100\n",
            "1/1 [==============================] - 0s 6ms/step - loss: 8.9873 - mae: 8.9873\n",
            "Epoch 16/100\n",
            "1/1 [==============================] - 0s 6ms/step - loss: 8.8548 - mae: 8.8548\n",
            "Epoch 17/100\n",
            "1/1 [==============================] - 0s 6ms/step - loss: 8.7223 - mae: 8.7223\n",
            "Epoch 18/100\n",
            "1/1 [==============================] - 0s 7ms/step - loss: 8.5898 - mae: 8.5898\n",
            "Epoch 19/100\n",
            "1/1 [==============================] - 0s 5ms/step - loss: 8.4573 - mae: 8.4573\n",
            "Epoch 20/100\n",
            "1/1 [==============================] - 0s 7ms/step - loss: 8.3248 - mae: 8.3248\n",
            "Epoch 21/100\n",
            "1/1 [==============================] - 0s 5ms/step - loss: 8.1923 - mae: 8.1923\n",
            "Epoch 22/100\n",
            "1/1 [==============================] - 0s 4ms/step - loss: 8.0598 - mae: 8.0598\n",
            "Epoch 23/100\n",
            "1/1 [==============================] - 0s 6ms/step - loss: 7.9273 - mae: 7.9273\n",
            "Epoch 24/100\n",
            "1/1 [==============================] - 0s 6ms/step - loss: 7.7948 - mae: 7.7948\n",
            "Epoch 25/100\n",
            "1/1 [==============================] - 0s 5ms/step - loss: 7.6623 - mae: 7.6623\n",
            "Epoch 26/100\n",
            "1/1 [==============================] - 0s 5ms/step - loss: 7.5298 - mae: 7.5298\n",
            "Epoch 27/100\n",
            "1/1 [==============================] - 0s 5ms/step - loss: 7.3973 - mae: 7.3973\n",
            "Epoch 28/100\n",
            "1/1 [==============================] - 0s 6ms/step - loss: 7.2648 - mae: 7.2648\n",
            "Epoch 29/100\n",
            "1/1 [==============================] - 0s 5ms/step - loss: 7.2525 - mae: 7.2525\n",
            "Epoch 30/100\n",
            "1/1 [==============================] - 0s 6ms/step - loss: 7.2469 - mae: 7.2469\n",
            "Epoch 31/100\n",
            "1/1 [==============================] - 0s 6ms/step - loss: 7.2413 - mae: 7.2413\n",
            "Epoch 32/100\n",
            "1/1 [==============================] - 0s 6ms/step - loss: 7.2356 - mae: 7.2356\n",
            "Epoch 33/100\n",
            "1/1 [==============================] - 0s 4ms/step - loss: 7.2300 - mae: 7.2300\n",
            "Epoch 34/100\n",
            "1/1 [==============================] - 0s 4ms/step - loss: 7.2244 - mae: 7.2244\n",
            "Epoch 35/100\n",
            "1/1 [==============================] - 0s 5ms/step - loss: 7.2188 - mae: 7.2188\n",
            "Epoch 36/100\n",
            "1/1 [==============================] - 0s 5ms/step - loss: 7.2131 - mae: 7.2131\n",
            "Epoch 37/100\n",
            "1/1 [==============================] - 0s 5ms/step - loss: 7.2075 - mae: 7.2075\n",
            "Epoch 38/100\n",
            "1/1 [==============================] - 0s 5ms/step - loss: 7.2019 - mae: 7.2019\n",
            "Epoch 39/100\n",
            "1/1 [==============================] - 0s 6ms/step - loss: 7.1962 - mae: 7.1962\n",
            "Epoch 40/100\n",
            "1/1 [==============================] - 0s 6ms/step - loss: 7.1906 - mae: 7.1906\n",
            "Epoch 41/100\n",
            "1/1 [==============================] - 0s 6ms/step - loss: 7.1850 - mae: 7.1850\n",
            "Epoch 42/100\n",
            "1/1 [==============================] - 0s 5ms/step - loss: 7.1794 - mae: 7.1794\n",
            "Epoch 43/100\n",
            "1/1 [==============================] - 0s 6ms/step - loss: 7.1738 - mae: 7.1738\n",
            "Epoch 44/100\n",
            "1/1 [==============================] - 0s 7ms/step - loss: 7.1681 - mae: 7.1681\n",
            "Epoch 45/100\n",
            "1/1 [==============================] - 0s 5ms/step - loss: 7.1625 - mae: 7.1625\n",
            "Epoch 46/100\n",
            "1/1 [==============================] - 0s 5ms/step - loss: 7.1569 - mae: 7.1569\n",
            "Epoch 47/100\n",
            "1/1 [==============================] - 0s 6ms/step - loss: 7.1512 - mae: 7.1512\n",
            "Epoch 48/100\n",
            "1/1 [==============================] - 0s 5ms/step - loss: 7.1456 - mae: 7.1456\n",
            "Epoch 49/100\n",
            "1/1 [==============================] - 0s 7ms/step - loss: 7.1400 - mae: 7.1400\n",
            "Epoch 50/100\n",
            "1/1 [==============================] - 0s 5ms/step - loss: 7.1344 - mae: 7.1344\n",
            "Epoch 51/100\n",
            "1/1 [==============================] - 0s 5ms/step - loss: 7.1287 - mae: 7.1287\n",
            "Epoch 52/100\n",
            "1/1 [==============================] - 0s 7ms/step - loss: 7.1231 - mae: 7.1231\n",
            "Epoch 53/100\n",
            "1/1 [==============================] - 0s 7ms/step - loss: 7.1175 - mae: 7.1175\n",
            "Epoch 54/100\n",
            "1/1 [==============================] - 0s 5ms/step - loss: 7.1119 - mae: 7.1119\n",
            "Epoch 55/100\n",
            "1/1 [==============================] - 0s 6ms/step - loss: 7.1063 - mae: 7.1063\n",
            "Epoch 56/100\n",
            "1/1 [==============================] - 0s 5ms/step - loss: 7.1006 - mae: 7.1006\n",
            "Epoch 57/100\n",
            "1/1 [==============================] - 0s 7ms/step - loss: 7.0950 - mae: 7.0950\n",
            "Epoch 58/100\n",
            "1/1 [==============================] - 0s 5ms/step - loss: 7.0894 - mae: 7.0894\n",
            "Epoch 59/100\n",
            "1/1 [==============================] - 0s 5ms/step - loss: 7.0838 - mae: 7.0838\n",
            "Epoch 60/100\n",
            "1/1 [==============================] - 0s 5ms/step - loss: 7.0781 - mae: 7.0781\n",
            "Epoch 61/100\n",
            "1/1 [==============================] - 0s 5ms/step - loss: 7.0725 - mae: 7.0725\n",
            "Epoch 62/100\n",
            "1/1 [==============================] - 0s 8ms/step - loss: 7.0669 - mae: 7.0669\n",
            "Epoch 63/100\n",
            "1/1 [==============================] - 0s 6ms/step - loss: 7.0613 - mae: 7.0613\n",
            "Epoch 64/100\n",
            "1/1 [==============================] - 0s 6ms/step - loss: 7.0556 - mae: 7.0556\n",
            "Epoch 65/100\n",
            "1/1 [==============================] - 0s 6ms/step - loss: 7.0500 - mae: 7.0500\n",
            "Epoch 66/100\n",
            "1/1 [==============================] - 0s 4ms/step - loss: 7.0444 - mae: 7.0444\n",
            "Epoch 67/100\n",
            "1/1 [==============================] - 0s 4ms/step - loss: 7.0388 - mae: 7.0388\n",
            "Epoch 68/100\n",
            "1/1 [==============================] - 0s 6ms/step - loss: 7.0331 - mae: 7.0331\n",
            "Epoch 69/100\n",
            "1/1 [==============================] - 0s 5ms/step - loss: 7.0275 - mae: 7.0275\n",
            "Epoch 70/100\n",
            "1/1 [==============================] - 0s 6ms/step - loss: 7.0219 - mae: 7.0219\n",
            "Epoch 71/100\n",
            "1/1 [==============================] - 0s 5ms/step - loss: 7.0163 - mae: 7.0163\n",
            "Epoch 72/100\n",
            "1/1 [==============================] - 0s 6ms/step - loss: 7.0106 - mae: 7.0106\n",
            "Epoch 73/100\n",
            "1/1 [==============================] - 0s 5ms/step - loss: 7.0050 - mae: 7.0050\n",
            "Epoch 74/100\n",
            "1/1 [==============================] - 0s 5ms/step - loss: 6.9994 - mae: 6.9994\n",
            "Epoch 75/100\n",
            "1/1 [==============================] - 0s 4ms/step - loss: 6.9938 - mae: 6.9938\n",
            "Epoch 76/100\n",
            "1/1 [==============================] - 0s 5ms/step - loss: 6.9881 - mae: 6.9881\n",
            "Epoch 77/100\n",
            "1/1 [==============================] - 0s 8ms/step - loss: 6.9825 - mae: 6.9825\n",
            "Epoch 78/100\n",
            "1/1 [==============================] - 0s 5ms/step - loss: 6.9769 - mae: 6.9769\n",
            "Epoch 79/100\n",
            "1/1 [==============================] - 0s 5ms/step - loss: 6.9713 - mae: 6.9713\n",
            "Epoch 80/100\n",
            "1/1 [==============================] - 0s 8ms/step - loss: 6.9656 - mae: 6.9656\n",
            "Epoch 81/100\n",
            "1/1 [==============================] - 0s 8ms/step - loss: 6.9600 - mae: 6.9600\n",
            "Epoch 82/100\n",
            "1/1 [==============================] - 0s 6ms/step - loss: 6.9544 - mae: 6.9544\n",
            "Epoch 83/100\n",
            "1/1 [==============================] - 0s 6ms/step - loss: 6.9488 - mae: 6.9488\n",
            "Epoch 84/100\n",
            "1/1 [==============================] - 0s 5ms/step - loss: 6.9431 - mae: 6.9431\n",
            "Epoch 85/100\n",
            "1/1 [==============================] - 0s 6ms/step - loss: 6.9375 - mae: 6.9375\n",
            "Epoch 86/100\n",
            "1/1 [==============================] - 0s 4ms/step - loss: 6.9319 - mae: 6.9319\n",
            "Epoch 87/100\n",
            "1/1 [==============================] - 0s 5ms/step - loss: 6.9263 - mae: 6.9263\n",
            "Epoch 88/100\n",
            "1/1 [==============================] - 0s 6ms/step - loss: 6.9206 - mae: 6.9206\n",
            "Epoch 89/100\n",
            "1/1 [==============================] - 0s 5ms/step - loss: 6.9150 - mae: 6.9150\n",
            "Epoch 90/100\n",
            "1/1 [==============================] - 0s 7ms/step - loss: 6.9094 - mae: 6.9094\n",
            "Epoch 91/100\n",
            "1/1 [==============================] - 0s 5ms/step - loss: 6.9038 - mae: 6.9038\n",
            "Epoch 92/100\n",
            "1/1 [==============================] - 0s 28ms/step - loss: 6.8981 - mae: 6.8981\n",
            "Epoch 93/100\n",
            "1/1 [==============================] - 0s 6ms/step - loss: 6.8925 - mae: 6.8925\n",
            "Epoch 94/100\n",
            "1/1 [==============================] - 0s 7ms/step - loss: 6.8869 - mae: 6.8869\n",
            "Epoch 95/100\n",
            "1/1 [==============================] - 0s 6ms/step - loss: 6.8813 - mae: 6.8813\n",
            "Epoch 96/100\n",
            "1/1 [==============================] - 0s 6ms/step - loss: 6.8756 - mae: 6.8756\n",
            "Epoch 97/100\n",
            "1/1 [==============================] - 0s 5ms/step - loss: 6.8700 - mae: 6.8700\n",
            "Epoch 98/100\n",
            "1/1 [==============================] - 0s 18ms/step - loss: 6.8644 - mae: 6.8644\n",
            "Epoch 99/100\n",
            "1/1 [==============================] - 0s 8ms/step - loss: 6.8588 - mae: 6.8588\n",
            "Epoch 100/100\n",
            "1/1 [==============================] - 0s 5ms/step - loss: 6.8531 - mae: 6.8531\n"
          ]
        },
        {
          "output_type": "execute_result",
          "data": {
            "text/plain": [
              "<keras.callbacks.History at 0x7f35d2858810>"
            ]
          },
          "metadata": {},
          "execution_count": 26
        }
      ]
    },
    {
      "cell_type": "code",
      "metadata": {
        "colab": {
          "base_uri": "https://localhost:8080/"
        },
        "id": "ed8MailJ3gDb",
        "outputId": "32320dae-76a2-4322-fe93-f52d9eca2898"
      },
      "source": [
        "model.predict([17.0])"
      ],
      "execution_count": 27,
      "outputs": [
        {
          "output_type": "execute_result",
          "data": {
            "text/plain": [
              "array([[30.19601]], dtype=float32)"
            ]
          },
          "metadata": {},
          "execution_count": 27
        }
      ]
    },
    {
      "cell_type": "code",
      "metadata": {
        "colab": {
          "base_uri": "https://localhost:8080/"
        },
        "id": "kNE-vt0P3mBo",
        "outputId": "881506e7-2af1-4ec1-a2c2-644116e096f7"
      },
      "source": [
        "# Improve model by differnt ways\n",
        "\n",
        "# Extra hidden layer\n",
        "\n",
        "model=tf.keras.Sequential([\n",
        "          tf.keras.layers.Dense(100,activation='relu'),\n",
        "          tf.keras.layers.Dense(1)                 \n",
        "          \n",
        "])\n",
        "\n",
        "model.compile(loss='mae',\n",
        "              optimizer=tf.keras.optimizers.SGD(),\n",
        "              metrics=['mae'])\n",
        "\n",
        "model.fit(x,y,epochs=100)"
      ],
      "execution_count": 32,
      "outputs": [
        {
          "output_type": "stream",
          "name": "stdout",
          "text": [
            "Epoch 1/100\n",
            "1/1 [==============================] - 0s 345ms/step - loss: 13.9468 - mae: 13.9468\n",
            "Epoch 2/100\n",
            "1/1 [==============================] - 0s 9ms/step - loss: 13.2859 - mae: 13.2859\n",
            "Epoch 3/100\n",
            "1/1 [==============================] - 0s 10ms/step - loss: 12.6279 - mae: 12.6279\n",
            "Epoch 4/100\n",
            "1/1 [==============================] - 0s 10ms/step - loss: 11.9702 - mae: 11.9702\n",
            "Epoch 5/100\n",
            "1/1 [==============================] - 0s 9ms/step - loss: 11.3044 - mae: 11.3044\n",
            "Epoch 6/100\n",
            "1/1 [==============================] - 0s 6ms/step - loss: 10.6244 - mae: 10.6244\n",
            "Epoch 7/100\n",
            "1/1 [==============================] - 0s 5ms/step - loss: 9.9248 - mae: 9.9248\n",
            "Epoch 8/100\n",
            "1/1 [==============================] - 0s 6ms/step - loss: 9.1949 - mae: 9.1949\n",
            "Epoch 9/100\n",
            "1/1 [==============================] - 0s 6ms/step - loss: 8.4303 - mae: 8.4303\n",
            "Epoch 10/100\n",
            "1/1 [==============================] - 0s 6ms/step - loss: 7.6245 - mae: 7.6245\n",
            "Epoch 11/100\n",
            "1/1 [==============================] - 0s 5ms/step - loss: 6.7723 - mae: 6.7723\n",
            "Epoch 12/100\n",
            "1/1 [==============================] - 0s 7ms/step - loss: 5.8960 - mae: 5.8960\n",
            "Epoch 13/100\n",
            "1/1 [==============================] - 0s 5ms/step - loss: 4.9754 - mae: 4.9754\n",
            "Epoch 14/100\n",
            "1/1 [==============================] - 0s 16ms/step - loss: 4.1323 - mae: 4.1323\n",
            "Epoch 15/100\n",
            "1/1 [==============================] - 0s 6ms/step - loss: 4.0312 - mae: 4.0312\n",
            "Epoch 16/100\n",
            "1/1 [==============================] - 0s 4ms/step - loss: 3.9276 - mae: 3.9276\n",
            "Epoch 17/100\n",
            "1/1 [==============================] - 0s 5ms/step - loss: 3.9605 - mae: 3.9605\n",
            "Epoch 18/100\n",
            "1/1 [==============================] - 0s 5ms/step - loss: 3.9073 - mae: 3.9073\n",
            "Epoch 19/100\n",
            "1/1 [==============================] - 0s 11ms/step - loss: 3.9714 - mae: 3.9714\n",
            "Epoch 20/100\n",
            "1/1 [==============================] - 0s 5ms/step - loss: 3.8999 - mae: 3.8999\n",
            "Epoch 21/100\n",
            "1/1 [==============================] - 0s 3ms/step - loss: 3.9595 - mae: 3.9595\n",
            "Epoch 22/100\n",
            "1/1 [==============================] - 0s 3ms/step - loss: 3.9079 - mae: 3.9079\n",
            "Epoch 23/100\n",
            "1/1 [==============================] - 0s 3ms/step - loss: 3.9333 - mae: 3.9333\n",
            "Epoch 24/100\n",
            "1/1 [==============================] - 0s 4ms/step - loss: 3.9160 - mae: 3.9160\n",
            "Epoch 25/100\n",
            "1/1 [==============================] - 0s 7ms/step - loss: 3.9096 - mae: 3.9096\n",
            "Epoch 26/100\n",
            "1/1 [==============================] - 0s 5ms/step - loss: 3.9309 - mae: 3.9309\n",
            "Epoch 27/100\n",
            "1/1 [==============================] - 0s 6ms/step - loss: 3.8864 - mae: 3.8864\n",
            "Epoch 28/100\n",
            "1/1 [==============================] - 0s 4ms/step - loss: 3.9391 - mae: 3.9391\n",
            "Epoch 29/100\n",
            "1/1 [==============================] - 0s 5ms/step - loss: 3.8681 - mae: 3.8681\n",
            "Epoch 30/100\n",
            "1/1 [==============================] - 0s 6ms/step - loss: 3.9381 - mae: 3.9381\n",
            "Epoch 31/100\n",
            "1/1 [==============================] - 0s 4ms/step - loss: 3.8763 - mae: 3.8763\n",
            "Epoch 32/100\n",
            "1/1 [==============================] - 0s 6ms/step - loss: 3.9117 - mae: 3.9117\n",
            "Epoch 33/100\n",
            "1/1 [==============================] - 0s 5ms/step - loss: 3.8854 - mae: 3.8854\n",
            "Epoch 34/100\n",
            "1/1 [==============================] - 0s 4ms/step - loss: 3.8910 - mae: 3.8910\n",
            "Epoch 35/100\n",
            "1/1 [==============================] - 0s 5ms/step - loss: 3.8996 - mae: 3.8996\n",
            "Epoch 36/100\n",
            "1/1 [==============================] - 0s 3ms/step - loss: 3.8641 - mae: 3.8641\n",
            "Epoch 37/100\n",
            "1/1 [==============================] - 0s 5ms/step - loss: 3.9080 - mae: 3.9080\n",
            "Epoch 38/100\n",
            "1/1 [==============================] - 0s 4ms/step - loss: 3.8374 - mae: 3.8374\n",
            "Epoch 39/100\n",
            "1/1 [==============================] - 0s 5ms/step - loss: 3.9154 - mae: 3.9154\n",
            "Epoch 40/100\n",
            "1/1 [==============================] - 0s 5ms/step - loss: 3.8459 - mae: 3.8459\n",
            "Epoch 41/100\n",
            "1/1 [==============================] - 0s 5ms/step - loss: 3.8888 - mae: 3.8888\n",
            "Epoch 42/100\n",
            "1/1 [==============================] - 0s 5ms/step - loss: 3.8594 - mae: 3.8594\n",
            "Epoch 43/100\n",
            "1/1 [==============================] - 0s 4ms/step - loss: 3.8678 - mae: 3.8678\n",
            "Epoch 44/100\n",
            "1/1 [==============================] - 0s 4ms/step - loss: 3.8695 - mae: 3.8695\n",
            "Epoch 45/100\n",
            "1/1 [==============================] - 0s 6ms/step - loss: 3.8407 - mae: 3.8407\n",
            "Epoch 46/100\n",
            "1/1 [==============================] - 0s 4ms/step - loss: 3.8782 - mae: 3.8782\n",
            "Epoch 47/100\n",
            "1/1 [==============================] - 0s 5ms/step - loss: 3.8134 - mae: 3.8134\n",
            "Epoch 48/100\n",
            "1/1 [==============================] - 0s 6ms/step - loss: 3.8870 - mae: 3.8870\n",
            "Epoch 49/100\n",
            "1/1 [==============================] - 0s 6ms/step - loss: 3.8165 - mae: 3.8165\n",
            "Epoch 50/100\n",
            "1/1 [==============================] - 0s 5ms/step - loss: 3.8678 - mae: 3.8678\n",
            "Epoch 51/100\n",
            "1/1 [==============================] - 0s 5ms/step - loss: 3.8318 - mae: 3.8318\n",
            "Epoch 52/100\n",
            "1/1 [==============================] - 0s 6ms/step - loss: 3.8433 - mae: 3.8433\n",
            "Epoch 53/100\n",
            "1/1 [==============================] - 0s 5ms/step - loss: 3.8405 - mae: 3.8405\n",
            "Epoch 54/100\n",
            "1/1 [==============================] - 0s 5ms/step - loss: 3.8159 - mae: 3.8159\n",
            "Epoch 55/100\n",
            "1/1 [==============================] - 0s 5ms/step - loss: 3.8494 - mae: 3.8494\n",
            "Epoch 56/100\n",
            "1/1 [==============================] - 0s 5ms/step - loss: 3.7884 - mae: 3.7884\n",
            "Epoch 57/100\n",
            "1/1 [==============================] - 0s 6ms/step - loss: 3.8585 - mae: 3.8585\n",
            "Epoch 58/100\n",
            "1/1 [==============================] - 0s 5ms/step - loss: 3.7889 - mae: 3.7889\n",
            "Epoch 59/100\n",
            "1/1 [==============================] - 0s 6ms/step - loss: 3.8451 - mae: 3.8451\n",
            "Epoch 60/100\n",
            "1/1 [==============================] - 0s 4ms/step - loss: 3.8037 - mae: 3.8037\n",
            "Epoch 61/100\n",
            "1/1 [==============================] - 0s 5ms/step - loss: 3.8175 - mae: 3.8175\n",
            "Epoch 62/100\n",
            "1/1 [==============================] - 0s 5ms/step - loss: 3.8126 - mae: 3.8126\n",
            "Epoch 63/100\n",
            "1/1 [==============================] - 0s 5ms/step - loss: 3.7899 - mae: 3.7899\n",
            "Epoch 64/100\n",
            "1/1 [==============================] - 0s 5ms/step - loss: 3.8218 - mae: 3.8218\n",
            "Epoch 65/100\n",
            "1/1 [==============================] - 0s 8ms/step - loss: 3.7622 - mae: 3.7622\n",
            "Epoch 66/100\n",
            "1/1 [==============================] - 0s 6ms/step - loss: 3.8311 - mae: 3.8311\n",
            "Epoch 67/100\n",
            "1/1 [==============================] - 0s 5ms/step - loss: 3.7651 - mae: 3.7651\n",
            "Epoch 68/100\n",
            "1/1 [==============================] - 0s 7ms/step - loss: 3.8185 - mae: 3.8185\n",
            "Epoch 69/100\n",
            "1/1 [==============================] - 0s 9ms/step - loss: 3.7766 - mae: 3.7766\n",
            "Epoch 70/100\n",
            "1/1 [==============================] - 0s 19ms/step - loss: 3.7906 - mae: 3.7906\n",
            "Epoch 71/100\n",
            "1/1 [==============================] - 0s 5ms/step - loss: 3.7858 - mae: 3.7858\n",
            "Epoch 72/100\n",
            "1/1 [==============================] - 0s 6ms/step - loss: 3.7627 - mae: 3.7627\n",
            "Epoch 73/100\n",
            "1/1 [==============================] - 0s 4ms/step - loss: 3.7952 - mae: 3.7952\n",
            "Epoch 74/100\n",
            "1/1 [==============================] - 0s 5ms/step - loss: 3.7347 - mae: 3.7347\n",
            "Epoch 75/100\n",
            "1/1 [==============================] - 0s 3ms/step - loss: 3.8055 - mae: 3.8055\n",
            "Epoch 76/100\n",
            "1/1 [==============================] - 0s 4ms/step - loss: 3.7414 - mae: 3.7414\n",
            "Epoch 77/100\n",
            "1/1 [==============================] - 0s 4ms/step - loss: 3.7906 - mae: 3.7906\n",
            "Epoch 78/100\n",
            "1/1 [==============================] - 0s 7ms/step - loss: 3.7506 - mae: 3.7506\n",
            "Epoch 79/100\n",
            "1/1 [==============================] - 0s 14ms/step - loss: 3.7624 - mae: 3.7624\n",
            "Epoch 80/100\n",
            "1/1 [==============================] - 0s 5ms/step - loss: 3.7599 - mae: 3.7599\n",
            "Epoch 81/100\n",
            "1/1 [==============================] - 0s 5ms/step - loss: 3.7342 - mae: 3.7342\n",
            "Epoch 82/100\n",
            "1/1 [==============================] - 0s 5ms/step - loss: 3.7696 - mae: 3.7696\n",
            "Epoch 83/100\n",
            "1/1 [==============================] - 0s 4ms/step - loss: 3.7059 - mae: 3.7059\n",
            "Epoch 84/100\n",
            "1/1 [==============================] - 0s 5ms/step - loss: 3.7833 - mae: 3.7833\n",
            "Epoch 85/100\n",
            "1/1 [==============================] - 0s 4ms/step - loss: 3.7162 - mae: 3.7162\n",
            "Epoch 86/100\n",
            "1/1 [==============================] - 0s 5ms/step - loss: 3.7614 - mae: 3.7614\n",
            "Epoch 87/100\n",
            "1/1 [==============================] - 0s 3ms/step - loss: 3.7255 - mae: 3.7255\n",
            "Epoch 88/100\n",
            "1/1 [==============================] - 0s 4ms/step - loss: 3.7328 - mae: 3.7328\n",
            "Epoch 89/100\n",
            "1/1 [==============================] - 0s 4ms/step - loss: 3.7351 - mae: 3.7351\n",
            "Epoch 90/100\n",
            "1/1 [==============================] - 0s 5ms/step - loss: 3.7044 - mae: 3.7044\n",
            "Epoch 91/100\n",
            "1/1 [==============================] - 0s 4ms/step - loss: 3.7449 - mae: 3.7449\n",
            "Epoch 92/100\n",
            "1/1 [==============================] - 0s 6ms/step - loss: 3.6776 - mae: 3.6776\n",
            "Epoch 93/100\n",
            "1/1 [==============================] - 0s 5ms/step - loss: 3.7594 - mae: 3.7594\n",
            "Epoch 94/100\n",
            "1/1 [==============================] - 0s 5ms/step - loss: 3.6919 - mae: 3.6919\n",
            "Epoch 95/100\n",
            "1/1 [==============================] - 0s 5ms/step - loss: 3.7307 - mae: 3.7307\n",
            "Epoch 96/100\n",
            "1/1 [==============================] - 0s 6ms/step - loss: 3.7015 - mae: 3.7015\n",
            "Epoch 97/100\n",
            "1/1 [==============================] - 0s 6ms/step - loss: 3.7019 - mae: 3.7019\n",
            "Epoch 98/100\n",
            "1/1 [==============================] - 0s 6ms/step - loss: 3.7114 - mae: 3.7114\n",
            "Epoch 99/100\n",
            "1/1 [==============================] - 0s 5ms/step - loss: 3.6731 - mae: 3.6731\n",
            "Epoch 100/100\n",
            "1/1 [==============================] - 0s 6ms/step - loss: 3.7214 - mae: 3.7214\n"
          ]
        },
        {
          "output_type": "execute_result",
          "data": {
            "text/plain": [
              "<keras.callbacks.History at 0x7f35d0f92250>"
            ]
          },
          "metadata": {},
          "execution_count": 32
        }
      ]
    },
    {
      "cell_type": "code",
      "metadata": {
        "colab": {
          "base_uri": "https://localhost:8080/"
        },
        "id": "r_Ch19zE4E94",
        "outputId": "5afb57df-670c-4e65-a290-0788c3eb77ed"
      },
      "source": [
        "x,y"
      ],
      "execution_count": 33,
      "outputs": [
        {
          "output_type": "execute_result",
          "data": {
            "text/plain": [
              "(<tf.Tensor: shape=(8,), dtype=float64, numpy=array([-7., -4., -1.,  2.,  5.,  8., 11., 14.])>,\n",
              " <tf.Tensor: shape=(8,), dtype=float64, numpy=array([ 3.,  6.,  9., 12., 15., 18., 21., 24.])>)"
            ]
          },
          "metadata": {},
          "execution_count": 33
        }
      ]
    },
    {
      "cell_type": "code",
      "metadata": {
        "colab": {
          "base_uri": "https://localhost:8080/"
        },
        "id": "D2hjl8lz5CC1",
        "outputId": "263775b9-91fb-47f3-f8b7-1d159fb27480"
      },
      "source": [
        "model.predict([17.0])"
      ],
      "execution_count": 34,
      "outputs": [
        {
          "output_type": "execute_result",
          "data": {
            "text/plain": [
              "array([[31.941307]], dtype=float32)"
            ]
          },
          "metadata": {},
          "execution_count": 34
        }
      ]
    },
    {
      "cell_type": "code",
      "metadata": {
        "id": "wYpcHiyM5Ext"
      },
      "source": [
        "# in this case i think this is over fitting beacuse our previous prediction is more accurate "
      ],
      "execution_count": 35,
      "outputs": []
    },
    {
      "cell_type": "code",
      "metadata": {
        "colab": {
          "base_uri": "https://localhost:8080/"
        },
        "id": "ogUw7hT29L4S",
        "outputId": "864cbca0-a2c9-4987-8ed2-dd7b723aceb5"
      },
      "source": [
        "model=tf.keras.Sequential([\n",
        "                tf.keras.layers.Dense(100,activation=None),\n",
        "                tf.keras.layers.Dense(1)\n",
        "])\n",
        "\n",
        "model.compile(loss='mae',\n",
        "              optimizer=tf.keras.optimizers.Adam(learning_rate=0.01),\n",
        "              metrics=['mae'])\n",
        "model.fit(x,y,epochs=100)\n"
      ],
      "execution_count": 56,
      "outputs": [
        {
          "output_type": "stream",
          "name": "stdout",
          "text": [
            "Epoch 1/100\n",
            "1/1 [==============================] - 0s 325ms/step - loss: 13.9408 - mae: 13.9408\n",
            "Epoch 2/100\n",
            "1/1 [==============================] - 0s 5ms/step - loss: 12.9697 - mae: 12.9697\n",
            "Epoch 3/100\n",
            "1/1 [==============================] - 0s 6ms/step - loss: 11.9981 - mae: 11.9981\n",
            "Epoch 4/100\n",
            "1/1 [==============================] - 0s 12ms/step - loss: 11.0177 - mae: 11.0177\n",
            "Epoch 5/100\n",
            "1/1 [==============================] - 0s 8ms/step - loss: 10.0220 - mae: 10.0220\n",
            "Epoch 6/100\n",
            "1/1 [==============================] - 0s 7ms/step - loss: 9.0050 - mae: 9.0050\n",
            "Epoch 7/100\n",
            "1/1 [==============================] - 0s 6ms/step - loss: 7.9612 - mae: 7.9612\n",
            "Epoch 8/100\n",
            "1/1 [==============================] - 0s 9ms/step - loss: 6.8847 - mae: 6.8847\n",
            "Epoch 9/100\n",
            "1/1 [==============================] - 0s 7ms/step - loss: 6.8668 - mae: 6.8668\n",
            "Epoch 10/100\n",
            "1/1 [==============================] - 0s 6ms/step - loss: 7.3183 - mae: 7.3183\n",
            "Epoch 11/100\n",
            "1/1 [==============================] - 0s 6ms/step - loss: 7.8570 - mae: 7.8570\n",
            "Epoch 12/100\n",
            "1/1 [==============================] - 0s 4ms/step - loss: 7.9960 - mae: 7.9960\n",
            "Epoch 13/100\n",
            "1/1 [==============================] - 0s 6ms/step - loss: 7.8387 - mae: 7.8387\n",
            "Epoch 14/100\n",
            "1/1 [==============================] - 0s 7ms/step - loss: 7.4696 - mae: 7.4696\n",
            "Epoch 15/100\n",
            "1/1 [==============================] - 0s 6ms/step - loss: 6.9490 - mae: 6.9490\n",
            "Epoch 16/100\n",
            "1/1 [==============================] - 0s 5ms/step - loss: 6.5321 - mae: 6.5321\n",
            "Epoch 17/100\n",
            "1/1 [==============================] - 0s 6ms/step - loss: 6.1377 - mae: 6.1377\n",
            "Epoch 18/100\n",
            "1/1 [==============================] - 0s 7ms/step - loss: 5.9791 - mae: 5.9791\n",
            "Epoch 19/100\n",
            "1/1 [==============================] - 0s 7ms/step - loss: 6.0867 - mae: 6.0867\n",
            "Epoch 20/100\n",
            "1/1 [==============================] - 0s 12ms/step - loss: 6.2569 - mae: 6.2569\n",
            "Epoch 21/100\n",
            "1/1 [==============================] - 0s 7ms/step - loss: 6.2816 - mae: 6.2816\n",
            "Epoch 22/100\n",
            "1/1 [==============================] - 0s 6ms/step - loss: 6.1813 - mae: 6.1813\n",
            "Epoch 23/100\n",
            "1/1 [==============================] - 0s 4ms/step - loss: 5.9698 - mae: 5.9698\n",
            "Epoch 24/100\n",
            "1/1 [==============================] - 0s 4ms/step - loss: 5.6567 - mae: 5.6567\n",
            "Epoch 25/100\n",
            "1/1 [==============================] - 0s 4ms/step - loss: 5.2871 - mae: 5.2871\n",
            "Epoch 26/100\n",
            "1/1 [==============================] - 0s 5ms/step - loss: 5.1340 - mae: 5.1340\n",
            "Epoch 27/100\n",
            "1/1 [==============================] - 0s 4ms/step - loss: 5.0462 - mae: 5.0462\n",
            "Epoch 28/100\n",
            "1/1 [==============================] - 0s 6ms/step - loss: 5.0342 - mae: 5.0342\n",
            "Epoch 29/100\n",
            "1/1 [==============================] - 0s 4ms/step - loss: 4.9655 - mae: 4.9655\n",
            "Epoch 30/100\n",
            "1/1 [==============================] - 0s 4ms/step - loss: 4.8437 - mae: 4.8437\n",
            "Epoch 31/100\n",
            "1/1 [==============================] - 0s 4ms/step - loss: 4.6722 - mae: 4.6722\n",
            "Epoch 32/100\n",
            "1/1 [==============================] - 0s 5ms/step - loss: 4.4544 - mae: 4.4544\n",
            "Epoch 33/100\n",
            "1/1 [==============================] - 0s 6ms/step - loss: 4.1933 - mae: 4.1933\n",
            "Epoch 34/100\n",
            "1/1 [==============================] - 0s 4ms/step - loss: 3.9727 - mae: 3.9727\n",
            "Epoch 35/100\n",
            "1/1 [==============================] - 0s 7ms/step - loss: 3.8226 - mae: 3.8226\n",
            "Epoch 36/100\n",
            "1/1 [==============================] - 0s 5ms/step - loss: 3.7531 - mae: 3.7531\n",
            "Epoch 37/100\n",
            "1/1 [==============================] - 0s 6ms/step - loss: 3.5768 - mae: 3.5768\n",
            "Epoch 38/100\n",
            "1/1 [==============================] - 0s 4ms/step - loss: 3.2395 - mae: 3.2395\n",
            "Epoch 39/100\n",
            "1/1 [==============================] - 0s 5ms/step - loss: 2.9783 - mae: 2.9783\n",
            "Epoch 40/100\n",
            "1/1 [==============================] - 0s 4ms/step - loss: 2.8833 - mae: 2.8833\n",
            "Epoch 41/100\n",
            "1/1 [==============================] - 0s 4ms/step - loss: 2.7429 - mae: 2.7429\n",
            "Epoch 42/100\n",
            "1/1 [==============================] - 0s 10ms/step - loss: 2.5872 - mae: 2.5872\n",
            "Epoch 43/100\n",
            "1/1 [==============================] - 0s 4ms/step - loss: 2.2149 - mae: 2.2149\n",
            "Epoch 44/100\n",
            "1/1 [==============================] - 0s 5ms/step - loss: 1.7517 - mae: 1.7517\n",
            "Epoch 45/100\n",
            "1/1 [==============================] - 0s 3ms/step - loss: 1.5623 - mae: 1.5623\n",
            "Epoch 46/100\n",
            "1/1 [==============================] - 0s 7ms/step - loss: 1.4437 - mae: 1.4437\n",
            "Epoch 47/100\n",
            "1/1 [==============================] - 0s 4ms/step - loss: 1.1103 - mae: 1.1103\n",
            "Epoch 48/100\n",
            "1/1 [==============================] - 0s 5ms/step - loss: 0.5735 - mae: 0.5735\n",
            "Epoch 49/100\n",
            "1/1 [==============================] - 0s 6ms/step - loss: 0.4578 - mae: 0.4578\n",
            "Epoch 50/100\n",
            "1/1 [==============================] - 0s 4ms/step - loss: 0.5281 - mae: 0.5281\n",
            "Epoch 51/100\n",
            "1/1 [==============================] - 0s 7ms/step - loss: 0.6018 - mae: 0.6018\n",
            "Epoch 52/100\n",
            "1/1 [==============================] - 0s 4ms/step - loss: 0.7897 - mae: 0.7897\n",
            "Epoch 53/100\n",
            "1/1 [==============================] - 0s 5ms/step - loss: 0.9931 - mae: 0.9931\n",
            "Epoch 54/100\n",
            "1/1 [==============================] - 0s 7ms/step - loss: 0.9079 - mae: 0.9079\n",
            "Epoch 55/100\n",
            "1/1 [==============================] - 0s 4ms/step - loss: 0.9160 - mae: 0.9160\n",
            "Epoch 56/100\n",
            "1/1 [==============================] - 0s 5ms/step - loss: 0.9569 - mae: 0.9569\n",
            "Epoch 57/100\n",
            "1/1 [==============================] - 0s 7ms/step - loss: 0.7525 - mae: 0.7525\n",
            "Epoch 58/100\n",
            "1/1 [==============================] - 0s 6ms/step - loss: 0.6814 - mae: 0.6814\n",
            "Epoch 59/100\n",
            "1/1 [==============================] - 0s 8ms/step - loss: 0.6239 - mae: 0.6239\n",
            "Epoch 60/100\n",
            "1/1 [==============================] - 0s 7ms/step - loss: 0.2848 - mae: 0.2848\n",
            "Epoch 61/100\n",
            "1/1 [==============================] - 0s 6ms/step - loss: 0.3806 - mae: 0.3806\n",
            "Epoch 62/100\n",
            "1/1 [==============================] - 0s 7ms/step - loss: 0.4761 - mae: 0.4761\n",
            "Epoch 63/100\n",
            "1/1 [==============================] - 0s 7ms/step - loss: 0.2886 - mae: 0.2886\n",
            "Epoch 64/100\n",
            "1/1 [==============================] - 0s 6ms/step - loss: 0.6178 - mae: 0.6178\n",
            "Epoch 65/100\n",
            "1/1 [==============================] - 0s 7ms/step - loss: 0.8096 - mae: 0.8096\n",
            "Epoch 66/100\n",
            "1/1 [==============================] - 0s 7ms/step - loss: 0.7921 - mae: 0.7921\n",
            "Epoch 67/100\n",
            "1/1 [==============================] - 0s 7ms/step - loss: 0.5884 - mae: 0.5884\n",
            "Epoch 68/100\n",
            "1/1 [==============================] - 0s 7ms/step - loss: 0.2625 - mae: 0.2625\n",
            "Epoch 69/100\n",
            "1/1 [==============================] - 0s 7ms/step - loss: 0.3961 - mae: 0.3961\n",
            "Epoch 70/100\n",
            "1/1 [==============================] - 0s 7ms/step - loss: 0.2922 - mae: 0.2922\n",
            "Epoch 71/100\n",
            "1/1 [==============================] - 0s 6ms/step - loss: 0.1779 - mae: 0.1779\n",
            "Epoch 72/100\n",
            "1/1 [==============================] - 0s 7ms/step - loss: 0.2815 - mae: 0.2815\n",
            "Epoch 73/100\n",
            "1/1 [==============================] - 0s 8ms/step - loss: 0.2573 - mae: 0.2573\n",
            "Epoch 74/100\n",
            "1/1 [==============================] - 0s 7ms/step - loss: 0.2454 - mae: 0.2454\n",
            "Epoch 75/100\n",
            "1/1 [==============================] - 0s 8ms/step - loss: 0.2098 - mae: 0.2098\n",
            "Epoch 76/100\n",
            "1/1 [==============================] - 0s 8ms/step - loss: 0.2060 - mae: 0.2060\n",
            "Epoch 77/100\n",
            "1/1 [==============================] - 0s 6ms/step - loss: 0.0137 - mae: 0.0137\n",
            "Epoch 78/100\n",
            "1/1 [==============================] - 0s 8ms/step - loss: 0.2878 - mae: 0.2878\n",
            "Epoch 79/100\n",
            "1/1 [==============================] - 0s 7ms/step - loss: 0.2794 - mae: 0.2794\n",
            "Epoch 80/100\n",
            "1/1 [==============================] - 0s 7ms/step - loss: 0.3427 - mae: 0.3427\n",
            "Epoch 81/100\n",
            "1/1 [==============================] - 0s 7ms/step - loss: 0.3754 - mae: 0.3754\n",
            "Epoch 82/100\n",
            "1/1 [==============================] - 0s 8ms/step - loss: 0.2285 - mae: 0.2285\n",
            "Epoch 83/100\n",
            "1/1 [==============================] - 0s 9ms/step - loss: 0.2753 - mae: 0.2753\n",
            "Epoch 84/100\n",
            "1/1 [==============================] - 0s 6ms/step - loss: 0.1178 - mae: 0.1178\n",
            "Epoch 85/100\n",
            "1/1 [==============================] - 0s 8ms/step - loss: 0.3219 - mae: 0.3219\n",
            "Epoch 86/100\n",
            "1/1 [==============================] - 0s 6ms/step - loss: 0.3760 - mae: 0.3760\n",
            "Epoch 87/100\n",
            "1/1 [==============================] - 0s 10ms/step - loss: 0.1896 - mae: 0.1896\n",
            "Epoch 88/100\n",
            "1/1 [==============================] - 0s 9ms/step - loss: 0.4380 - mae: 0.4380\n",
            "Epoch 89/100\n",
            "1/1 [==============================] - 0s 11ms/step - loss: 0.5078 - mae: 0.5078\n",
            "Epoch 90/100\n",
            "1/1 [==============================] - 0s 12ms/step - loss: 0.3195 - mae: 0.3195\n",
            "Epoch 91/100\n",
            "1/1 [==============================] - 0s 13ms/step - loss: 0.1788 - mae: 0.1788\n",
            "Epoch 92/100\n",
            "1/1 [==============================] - 0s 13ms/step - loss: 0.2453 - mae: 0.2453\n",
            "Epoch 93/100\n",
            "1/1 [==============================] - 0s 6ms/step - loss: 0.0811 - mae: 0.0811\n",
            "Epoch 94/100\n",
            "1/1 [==============================] - 0s 8ms/step - loss: 0.4413 - mae: 0.4413\n",
            "Epoch 95/100\n",
            "1/1 [==============================] - 0s 10ms/step - loss: 0.5080 - mae: 0.5080\n",
            "Epoch 96/100\n",
            "1/1 [==============================] - 0s 7ms/step - loss: 0.2565 - mae: 0.2565\n",
            "Epoch 97/100\n",
            "1/1 [==============================] - 0s 6ms/step - loss: 0.2972 - mae: 0.2972\n",
            "Epoch 98/100\n",
            "1/1 [==============================] - 0s 7ms/step - loss: 0.4647 - mae: 0.4647\n",
            "Epoch 99/100\n",
            "1/1 [==============================] - 0s 8ms/step - loss: 0.3175 - mae: 0.3175\n",
            "Epoch 100/100\n",
            "1/1 [==============================] - 0s 8ms/step - loss: 0.1135 - mae: 0.1135\n"
          ]
        },
        {
          "output_type": "execute_result",
          "data": {
            "text/plain": [
              "<keras.callbacks.History at 0x7f35d1d46610>"
            ]
          },
          "metadata": {},
          "execution_count": 56
        }
      ]
    },
    {
      "cell_type": "code",
      "metadata": {
        "colab": {
          "base_uri": "https://localhost:8080/"
        },
        "id": "XEGNj2cb_jOk",
        "outputId": "1863060f-7a68-43e1-8e56-a1939e0d30e4"
      },
      "source": [
        "model.predict([17.0])"
      ],
      "execution_count": 57,
      "outputs": [
        {
          "output_type": "execute_result",
          "data": {
            "text/plain": [
              "array([[27.524399]], dtype=float32)"
            ]
          },
          "metadata": {},
          "execution_count": 57
        }
      ]
    },
    {
      "cell_type": "code",
      "metadata": {
        "id": "mWc55b4S_y_i"
      },
      "source": [
        "# This is best model"
      ],
      "execution_count": 58,
      "outputs": []
    },
    {
      "cell_type": "code",
      "metadata": {
        "id": "85mcz7Xq_8R7"
      },
      "source": [
        ""
      ],
      "execution_count": null,
      "outputs": []
    }
  ]
}